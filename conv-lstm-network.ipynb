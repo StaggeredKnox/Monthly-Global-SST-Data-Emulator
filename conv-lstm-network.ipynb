{
  "nbformat": 4,
  "nbformat_minor": 0,
  "metadata": {
    "colab": {
      "provenance": []
    },
    "kernelspec": {
      "name": "python3",
      "display_name": "Python 3"
    },
    "language_info": {
      "name": "python"
    }
  },
  "cells": [
    {
      "cell_type": "code",
      "source": [
        "!pip install torchmetrics\n",
        "!pip install netCDF4\n",
        "!pip install basemap\n",
        "!pip install eofs"
      ],
      "metadata": {
        "colab": {
          "base_uri": "https://localhost:8080/"
        },
        "id": "05d4-xnjK_BT",
        "outputId": "279c7efd-45a4-43e6-f38e-7384ad071a36"
      },
      "execution_count": null,
      "outputs": [
        {
          "output_type": "stream",
          "name": "stdout",
          "text": [
            "Requirement already satisfied: torchmetrics in /usr/local/lib/python3.11/dist-packages (1.7.4)\n",
            "Requirement already satisfied: numpy>1.20.0 in /usr/local/lib/python3.11/dist-packages (from torchmetrics) (2.0.2)\n",
            "Requirement already satisfied: packaging>17.1 in /usr/local/lib/python3.11/dist-packages (from torchmetrics) (24.2)\n",
            "Requirement already satisfied: torch>=2.0.0 in /usr/local/lib/python3.11/dist-packages (from torchmetrics) (2.6.0+cu124)\n",
            "Requirement already satisfied: lightning-utilities>=0.8.0 in /usr/local/lib/python3.11/dist-packages (from torchmetrics) (0.14.3)\n",
            "Requirement already satisfied: setuptools in /usr/local/lib/python3.11/dist-packages (from lightning-utilities>=0.8.0->torchmetrics) (75.2.0)\n",
            "Requirement already satisfied: typing_extensions in /usr/local/lib/python3.11/dist-packages (from lightning-utilities>=0.8.0->torchmetrics) (4.14.1)\n",
            "Requirement already satisfied: filelock in /usr/local/lib/python3.11/dist-packages (from torch>=2.0.0->torchmetrics) (3.18.0)\n",
            "Requirement already satisfied: networkx in /usr/local/lib/python3.11/dist-packages (from torch>=2.0.0->torchmetrics) (3.5)\n",
            "Requirement already satisfied: jinja2 in /usr/local/lib/python3.11/dist-packages (from torch>=2.0.0->torchmetrics) (3.1.6)\n",
            "Requirement already satisfied: fsspec in /usr/local/lib/python3.11/dist-packages (from torch>=2.0.0->torchmetrics) (2025.3.2)\n",
            "Requirement already satisfied: nvidia-cuda-nvrtc-cu12==12.4.127 in /usr/local/lib/python3.11/dist-packages (from torch>=2.0.0->torchmetrics) (12.4.127)\n",
            "Requirement already satisfied: nvidia-cuda-runtime-cu12==12.4.127 in /usr/local/lib/python3.11/dist-packages (from torch>=2.0.0->torchmetrics) (12.4.127)\n",
            "Requirement already satisfied: nvidia-cuda-cupti-cu12==12.4.127 in /usr/local/lib/python3.11/dist-packages (from torch>=2.0.0->torchmetrics) (12.4.127)\n",
            "Requirement already satisfied: nvidia-cudnn-cu12==9.1.0.70 in /usr/local/lib/python3.11/dist-packages (from torch>=2.0.0->torchmetrics) (9.1.0.70)\n",
            "Requirement already satisfied: nvidia-cublas-cu12==12.4.5.8 in /usr/local/lib/python3.11/dist-packages (from torch>=2.0.0->torchmetrics) (12.4.5.8)\n",
            "Requirement already satisfied: nvidia-cufft-cu12==11.2.1.3 in /usr/local/lib/python3.11/dist-packages (from torch>=2.0.0->torchmetrics) (11.2.1.3)\n",
            "Requirement already satisfied: nvidia-curand-cu12==10.3.5.147 in /usr/local/lib/python3.11/dist-packages (from torch>=2.0.0->torchmetrics) (10.3.5.147)\n",
            "Requirement already satisfied: nvidia-cusolver-cu12==11.6.1.9 in /usr/local/lib/python3.11/dist-packages (from torch>=2.0.0->torchmetrics) (11.6.1.9)\n",
            "Requirement already satisfied: nvidia-cusparse-cu12==12.3.1.170 in /usr/local/lib/python3.11/dist-packages (from torch>=2.0.0->torchmetrics) (12.3.1.170)\n",
            "Requirement already satisfied: nvidia-cusparselt-cu12==0.6.2 in /usr/local/lib/python3.11/dist-packages (from torch>=2.0.0->torchmetrics) (0.6.2)\n",
            "Requirement already satisfied: nvidia-nccl-cu12==2.21.5 in /usr/local/lib/python3.11/dist-packages (from torch>=2.0.0->torchmetrics) (2.21.5)\n",
            "Requirement already satisfied: nvidia-nvtx-cu12==12.4.127 in /usr/local/lib/python3.11/dist-packages (from torch>=2.0.0->torchmetrics) (12.4.127)\n",
            "Requirement already satisfied: nvidia-nvjitlink-cu12==12.4.127 in /usr/local/lib/python3.11/dist-packages (from torch>=2.0.0->torchmetrics) (12.4.127)\n",
            "Requirement already satisfied: triton==3.2.0 in /usr/local/lib/python3.11/dist-packages (from torch>=2.0.0->torchmetrics) (3.2.0)\n",
            "Requirement already satisfied: sympy==1.13.1 in /usr/local/lib/python3.11/dist-packages (from torch>=2.0.0->torchmetrics) (1.13.1)\n",
            "Requirement already satisfied: mpmath<1.4,>=1.1.0 in /usr/local/lib/python3.11/dist-packages (from sympy==1.13.1->torch>=2.0.0->torchmetrics) (1.3.0)\n",
            "Requirement already satisfied: MarkupSafe>=2.0 in /usr/local/lib/python3.11/dist-packages (from jinja2->torch>=2.0.0->torchmetrics) (3.0.2)\n",
            "Requirement already satisfied: netCDF4 in /usr/local/lib/python3.11/dist-packages (1.7.2)\n",
            "Requirement already satisfied: cftime in /usr/local/lib/python3.11/dist-packages (from netCDF4) (1.6.4.post1)\n",
            "Requirement already satisfied: certifi in /usr/local/lib/python3.11/dist-packages (from netCDF4) (2025.7.9)\n",
            "Requirement already satisfied: numpy in /usr/local/lib/python3.11/dist-packages (from netCDF4) (2.0.2)\n",
            "Requirement already satisfied: basemap in /usr/local/lib/python3.11/dist-packages (2.0.0)\n",
            "Requirement already satisfied: basemap_data<3.0,>=2.0 in /usr/local/lib/python3.11/dist-packages (from basemap) (2.0.0)\n",
            "Requirement already satisfied: packaging<26.0,>=20.5 in /usr/local/lib/python3.11/dist-packages (from basemap) (24.2)\n",
            "Requirement already satisfied: numpy<2.4,>=2.0 in /usr/local/lib/python3.11/dist-packages (from basemap) (2.0.2)\n",
            "Requirement already satisfied: matplotlib<3.11,>=3.4 in /usr/local/lib/python3.11/dist-packages (from basemap) (3.10.0)\n",
            "Requirement already satisfied: pyproj<3.8,>=3.0 in /usr/local/lib/python3.11/dist-packages (from basemap) (3.7.1)\n",
            "Requirement already satisfied: pyshp<2.4,>=2.0 in /usr/local/lib/python3.11/dist-packages (from basemap) (2.3.1)\n",
            "Requirement already satisfied: contourpy>=1.0.1 in /usr/local/lib/python3.11/dist-packages (from matplotlib<3.11,>=3.4->basemap) (1.3.2)\n",
            "Requirement already satisfied: cycler>=0.10 in /usr/local/lib/python3.11/dist-packages (from matplotlib<3.11,>=3.4->basemap) (0.12.1)\n",
            "Requirement already satisfied: fonttools>=4.22.0 in /usr/local/lib/python3.11/dist-packages (from matplotlib<3.11,>=3.4->basemap) (4.58.5)\n",
            "Requirement already satisfied: kiwisolver>=1.3.1 in /usr/local/lib/python3.11/dist-packages (from matplotlib<3.11,>=3.4->basemap) (1.4.8)\n",
            "Requirement already satisfied: pillow>=8 in /usr/local/lib/python3.11/dist-packages (from matplotlib<3.11,>=3.4->basemap) (11.2.1)\n",
            "Requirement already satisfied: pyparsing>=2.3.1 in /usr/local/lib/python3.11/dist-packages (from matplotlib<3.11,>=3.4->basemap) (3.2.3)\n",
            "Requirement already satisfied: python-dateutil>=2.7 in /usr/local/lib/python3.11/dist-packages (from matplotlib<3.11,>=3.4->basemap) (2.9.0.post0)\n",
            "Requirement already satisfied: certifi in /usr/local/lib/python3.11/dist-packages (from pyproj<3.8,>=3.0->basemap) (2025.7.9)\n",
            "Requirement already satisfied: six>=1.5 in /usr/local/lib/python3.11/dist-packages (from python-dateutil>=2.7->matplotlib<3.11,>=3.4->basemap) (1.17.0)\n",
            "Requirement already satisfied: eofs in /usr/local/lib/python3.11/dist-packages (2.0.0)\n",
            "Requirement already satisfied: numpy in /usr/local/lib/python3.11/dist-packages (from eofs) (2.0.2)\n"
          ]
        }
      ]
    },
    {
      "cell_type": "code",
      "execution_count": null,
      "metadata": {
        "id": "5h0OjgzH8ykF",
        "colab": {
          "base_uri": "https://localhost:8080/"
        },
        "outputId": "b9a772c8-e654-465d-f0f4-1ade60b491c6"
      },
      "outputs": [
        {
          "output_type": "stream",
          "name": "stdout",
          "text": [
            "Mounted at /content/gdrive\n"
          ]
        }
      ],
      "source": [
        "from google.colab import drive\n",
        "drive.mount('/content/gdrive')"
      ]
    },
    {
      "cell_type": "code",
      "source": [],
      "metadata": {
        "id": "ZrkiPQO5NJ1v"
      },
      "execution_count": null,
      "outputs": []
    },
    {
      "cell_type": "code",
      "source": [],
      "metadata": {
        "id": "qa_HvYP5NJ3n"
      },
      "execution_count": null,
      "outputs": []
    },
    {
      "cell_type": "markdown",
      "source": [
        "# CompVis VQ-VAE Model Loading"
      ],
      "metadata": {
        "id": "UR5FTZEqAB8Q"
      }
    },
    {
      "cell_type": "code",
      "execution_count": null,
      "metadata": {
        "colab": {
          "base_uri": "https://localhost:8080/"
        },
        "id": "KvLIX3j2zkga",
        "outputId": "ceb0788b-a07d-404b-d85f-1ab13d3c0fd2"
      },
      "outputs": [
        {
          "output_type": "stream",
          "name": "stdout",
          "text": [
            "Cloning into 'taming-transformers'...\n",
            "remote: Enumerating objects: 1342, done.\u001b[K\n",
            "remote: Counting objects: 100% (1/1), done.\u001b[K\n",
            "remote: Total 1342 (delta 0), reused 0 (delta 0), pack-reused 1341 (from 2)\u001b[K\n",
            "Receiving objects: 100% (1342/1342), 409.77 MiB | 40.40 MiB/s, done.\n",
            "Resolving deltas: 100% (282/282), done.\n",
            "Updating files: 100% (719/719), done.\n",
            "Collecting pytorch-lightning\n",
            "  Downloading pytorch_lightning-2.5.2-py3-none-any.whl.metadata (21 kB)\n",
            "Requirement already satisfied: omegaconf in /usr/local/lib/python3.11/dist-packages (2.3.0)\n",
            "Requirement already satisfied: einops in /usr/local/lib/python3.11/dist-packages (0.8.1)\n",
            "Requirement already satisfied: torch>=2.1.0 in /usr/local/lib/python3.11/dist-packages (from pytorch-lightning) (2.6.0+cu124)\n",
            "Requirement already satisfied: tqdm>=4.57.0 in /usr/local/lib/python3.11/dist-packages (from pytorch-lightning) (4.67.1)\n",
            "Requirement already satisfied: PyYAML>=5.4 in /usr/local/lib/python3.11/dist-packages (from pytorch-lightning) (6.0.2)\n",
            "Requirement already satisfied: fsspec>=2022.5.0 in /usr/local/lib/python3.11/dist-packages (from fsspec[http]>=2022.5.0->pytorch-lightning) (2025.3.2)\n",
            "Requirement already satisfied: torchmetrics>=0.7.0 in /usr/local/lib/python3.11/dist-packages (from pytorch-lightning) (1.7.4)\n",
            "Requirement already satisfied: packaging>=20.0 in /usr/local/lib/python3.11/dist-packages (from pytorch-lightning) (24.2)\n",
            "Requirement already satisfied: typing-extensions>=4.4.0 in /usr/local/lib/python3.11/dist-packages (from pytorch-lightning) (4.14.1)\n",
            "Requirement already satisfied: lightning-utilities>=0.10.0 in /usr/local/lib/python3.11/dist-packages (from pytorch-lightning) (0.14.3)\n",
            "Requirement already satisfied: antlr4-python3-runtime==4.9.* in /usr/local/lib/python3.11/dist-packages (from omegaconf) (4.9.3)\n",
            "Requirement already satisfied: aiohttp!=4.0.0a0,!=4.0.0a1 in /usr/local/lib/python3.11/dist-packages (from fsspec[http]>=2022.5.0->pytorch-lightning) (3.11.15)\n",
            "Requirement already satisfied: setuptools in /usr/local/lib/python3.11/dist-packages (from lightning-utilities>=0.10.0->pytorch-lightning) (75.2.0)\n",
            "Requirement already satisfied: filelock in /usr/local/lib/python3.11/dist-packages (from torch>=2.1.0->pytorch-lightning) (3.18.0)\n",
            "Requirement already satisfied: networkx in /usr/local/lib/python3.11/dist-packages (from torch>=2.1.0->pytorch-lightning) (3.5)\n",
            "Requirement already satisfied: jinja2 in /usr/local/lib/python3.11/dist-packages (from torch>=2.1.0->pytorch-lightning) (3.1.6)\n",
            "Requirement already satisfied: nvidia-cuda-nvrtc-cu12==12.4.127 in /usr/local/lib/python3.11/dist-packages (from torch>=2.1.0->pytorch-lightning) (12.4.127)\n",
            "Requirement already satisfied: nvidia-cuda-runtime-cu12==12.4.127 in /usr/local/lib/python3.11/dist-packages (from torch>=2.1.0->pytorch-lightning) (12.4.127)\n",
            "Requirement already satisfied: nvidia-cuda-cupti-cu12==12.4.127 in /usr/local/lib/python3.11/dist-packages (from torch>=2.1.0->pytorch-lightning) (12.4.127)\n",
            "Requirement already satisfied: nvidia-cudnn-cu12==9.1.0.70 in /usr/local/lib/python3.11/dist-packages (from torch>=2.1.0->pytorch-lightning) (9.1.0.70)\n",
            "Requirement already satisfied: nvidia-cublas-cu12==12.4.5.8 in /usr/local/lib/python3.11/dist-packages (from torch>=2.1.0->pytorch-lightning) (12.4.5.8)\n",
            "Requirement already satisfied: nvidia-cufft-cu12==11.2.1.3 in /usr/local/lib/python3.11/dist-packages (from torch>=2.1.0->pytorch-lightning) (11.2.1.3)\n",
            "Requirement already satisfied: nvidia-curand-cu12==10.3.5.147 in /usr/local/lib/python3.11/dist-packages (from torch>=2.1.0->pytorch-lightning) (10.3.5.147)\n",
            "Requirement already satisfied: nvidia-cusolver-cu12==11.6.1.9 in /usr/local/lib/python3.11/dist-packages (from torch>=2.1.0->pytorch-lightning) (11.6.1.9)\n",
            "Requirement already satisfied: nvidia-cusparse-cu12==12.3.1.170 in /usr/local/lib/python3.11/dist-packages (from torch>=2.1.0->pytorch-lightning) (12.3.1.170)\n",
            "Requirement already satisfied: nvidia-cusparselt-cu12==0.6.2 in /usr/local/lib/python3.11/dist-packages (from torch>=2.1.0->pytorch-lightning) (0.6.2)\n",
            "Requirement already satisfied: nvidia-nccl-cu12==2.21.5 in /usr/local/lib/python3.11/dist-packages (from torch>=2.1.0->pytorch-lightning) (2.21.5)\n",
            "Requirement already satisfied: nvidia-nvtx-cu12==12.4.127 in /usr/local/lib/python3.11/dist-packages (from torch>=2.1.0->pytorch-lightning) (12.4.127)\n",
            "Requirement already satisfied: nvidia-nvjitlink-cu12==12.4.127 in /usr/local/lib/python3.11/dist-packages (from torch>=2.1.0->pytorch-lightning) (12.4.127)\n",
            "Requirement already satisfied: triton==3.2.0 in /usr/local/lib/python3.11/dist-packages (from torch>=2.1.0->pytorch-lightning) (3.2.0)\n",
            "Requirement already satisfied: sympy==1.13.1 in /usr/local/lib/python3.11/dist-packages (from torch>=2.1.0->pytorch-lightning) (1.13.1)\n",
            "Requirement already satisfied: mpmath<1.4,>=1.1.0 in /usr/local/lib/python3.11/dist-packages (from sympy==1.13.1->torch>=2.1.0->pytorch-lightning) (1.3.0)\n",
            "Requirement already satisfied: numpy>1.20.0 in /usr/local/lib/python3.11/dist-packages (from torchmetrics>=0.7.0->pytorch-lightning) (2.0.2)\n",
            "Requirement already satisfied: aiohappyeyeballs>=2.3.0 in /usr/local/lib/python3.11/dist-packages (from aiohttp!=4.0.0a0,!=4.0.0a1->fsspec[http]>=2022.5.0->pytorch-lightning) (2.6.1)\n",
            "Requirement already satisfied: aiosignal>=1.1.2 in /usr/local/lib/python3.11/dist-packages (from aiohttp!=4.0.0a0,!=4.0.0a1->fsspec[http]>=2022.5.0->pytorch-lightning) (1.4.0)\n",
            "Requirement already satisfied: attrs>=17.3.0 in /usr/local/lib/python3.11/dist-packages (from aiohttp!=4.0.0a0,!=4.0.0a1->fsspec[http]>=2022.5.0->pytorch-lightning) (25.3.0)\n",
            "Requirement already satisfied: frozenlist>=1.1.1 in /usr/local/lib/python3.11/dist-packages (from aiohttp!=4.0.0a0,!=4.0.0a1->fsspec[http]>=2022.5.0->pytorch-lightning) (1.7.0)\n",
            "Requirement already satisfied: multidict<7.0,>=4.5 in /usr/local/lib/python3.11/dist-packages (from aiohttp!=4.0.0a0,!=4.0.0a1->fsspec[http]>=2022.5.0->pytorch-lightning) (6.6.3)\n",
            "Requirement already satisfied: propcache>=0.2.0 in /usr/local/lib/python3.11/dist-packages (from aiohttp!=4.0.0a0,!=4.0.0a1->fsspec[http]>=2022.5.0->pytorch-lightning) (0.3.2)\n",
            "Requirement already satisfied: yarl<2.0,>=1.17.0 in /usr/local/lib/python3.11/dist-packages (from aiohttp!=4.0.0a0,!=4.0.0a1->fsspec[http]>=2022.5.0->pytorch-lightning) (1.20.1)\n",
            "Requirement already satisfied: MarkupSafe>=2.0 in /usr/local/lib/python3.11/dist-packages (from jinja2->torch>=2.1.0->pytorch-lightning) (3.0.2)\n",
            "Requirement already satisfied: idna>=2.0 in /usr/local/lib/python3.11/dist-packages (from yarl<2.0,>=1.17.0->aiohttp!=4.0.0a0,!=4.0.0a1->fsspec[http]>=2022.5.0->pytorch-lightning) (3.10)\n",
            "Downloading pytorch_lightning-2.5.2-py3-none-any.whl (825 kB)\n",
            "\u001b[2K   \u001b[90m━━━━━━━━━━━━━━━━━━━━━━━━━━━━━━━━━━━━━━━━\u001b[0m \u001b[32m825.4/825.4 kB\u001b[0m \u001b[31m16.2 MB/s\u001b[0m eta \u001b[36m0:00:00\u001b[0m\n",
            "\u001b[?25hInstalling collected packages: pytorch-lightning\n",
            "Successfully installed pytorch-lightning-2.5.2\n"
          ]
        }
      ],
      "source": [
        "\n",
        "!git clone https://github.com/CompVis/taming-transformers.git\n",
        "\n",
        "!pip install pytorch-lightning omegaconf einops\n"
      ]
    },
    {
      "cell_type": "code",
      "source": [
        "# Modify the file to remove the import of torch._six\n",
        "import os\n",
        "\n",
        "file_path = \"/content/taming-transformers/taming/data/utils.py\"\n",
        "\n",
        "if os.path.exists(file_path):\n",
        "    with open(file_path, \"r\") as f:\n",
        "        content = f.read()\n",
        "\n",
        "    # Remove the line \"from torch._six import string_classes\"\n",
        "    content = content.replace(\"from torch._six import string_classes\", \"\")\n",
        "\n",
        "    with open(file_path, \"w\") as f:\n",
        "        f.write(content)\n",
        "    print(f\"Modified {file_path} to remove torch._six import.\")\n",
        "else:\n",
        "    print(f\"File not found: {file_path}\")"
      ],
      "metadata": {
        "colab": {
          "base_uri": "https://localhost:8080/"
        },
        "id": "w-p1yqQf27NT",
        "outputId": "2b344833-024a-4235-c743-84f155d73e03"
      },
      "execution_count": null,
      "outputs": [
        {
          "output_type": "stream",
          "name": "stdout",
          "text": [
            "Modified /content/taming-transformers/taming/data/utils.py to remove torch._six import.\n"
          ]
        }
      ]
    },
    {
      "cell_type": "code",
      "source": [
        "!find /content/taming-transformers -name \"*.pyc\" -delete"
      ],
      "metadata": {
        "id": "qCJ0phs43jH8"
      },
      "execution_count": null,
      "outputs": []
    },
    {
      "cell_type": "code",
      "source": [
        "import sys\n",
        "sys.path.append('/content/taming-transformers')\n",
        "\n",
        "from taming.models.vqgan import VQModel  # it is VQ-VAE / VQGAN class"
      ],
      "metadata": {
        "id": "bqTh7NF9zyev"
      },
      "execution_count": null,
      "outputs": []
    },
    {
      "cell_type": "code",
      "metadata": {
        "colab": {
          "base_uri": "https://localhost:8080/"
        },
        "id": "4b54ac9f",
        "outputId": "7755ffd7-2c0b-4c6d-c1f0-b4b05ca1dad3"
      },
      "source": [
        "import os\n",
        "\n",
        "losses_dir = \"/content/taming-transformers/taming/modules/losses/\"\n",
        "\n",
        "if os.path.exists(losses_dir):\n",
        "    print(f\"Contents of {losses_dir}:\")\n",
        "    for item in os.listdir(losses_dir):\n",
        "        print(item)\n",
        "else:\n",
        "    print(f\"Directory not found: {losses_dir}\")"
      ],
      "execution_count": null,
      "outputs": [
        {
          "output_type": "stream",
          "name": "stdout",
          "text": [
            "Contents of /content/taming-transformers/taming/modules/losses/:\n",
            "vqperceptual.py\n",
            "lpips.py\n",
            "segmentation.py\n",
            "__init__.py\n"
          ]
        }
      ]
    },
    {
      "cell_type": "code",
      "source": [
        "import torch\n",
        "import torch.nn.functional as F\n",
        "from torch.utils.data import DataLoader, TensorDataset\n",
        "import matplotlib.pyplot as plt\n",
        "import numpy as np\n",
        "import sys\n",
        "import os\n",
        "\n",
        "device = torch.device(\"cuda\" if torch.cuda.is_available() else \"cpu\")\n",
        "\n",
        "\n",
        "# VQ-VAE model config\n",
        "ddconfig = {\n",
        "    \"double_z\": False,\n",
        "    \"z_channels\": 64,\n",
        "    \"resolution\": 144,  # we use width here just to pass shape\n",
        "    \"in_channels\": 1,\n",
        "    \"out_ch\": 1,\n",
        "    \"ch\": 64,\n",
        "    \"ch_mult\": [1, 2, 4],\n",
        "    \"num_res_blocks\": 1,\n",
        "    \"attn_resolutions\": [],\n",
        "    \"dropout\": 0.0,\n",
        "    \"num_groups\": 8\n",
        "}\n",
        "n_embed = 1024\n",
        "embed_dim = 64\n",
        "\n",
        "\n",
        "lossconfig = {\n",
        "    'target': 'taming.modules.losses.vqperceptual.VQLPIPSWithDiscriminator',\n",
        "    'params': {\n",
        "        'disc_start': 99999999,  # disables GAN\n",
        "        'codebook_weight': 1.0,\n",
        "        'perceptual_weight': 0.0,\n",
        "    }\n",
        "}\n",
        "\n"
      ],
      "metadata": {
        "id": "EY3k59nJxGYO"
      },
      "execution_count": null,
      "outputs": []
    },
    {
      "cell_type": "code",
      "source": [
        "vqvae_model = VQModel(ddconfig, lossconfig, n_embed, embed_dim)\n",
        "vqvae_model.to(device)\n",
        "\n",
        "\"\"\" [IMPORTANT] uncomment below two lines and load trained VQVAE Model \"\"\"\n",
        "\n",
        "# mdlpth = \"VQ_VAE_new_weight_GISS_anomaly19.pt\"\n",
        "# vqvae_model.load_state_dict(torch.load(\"/content/gdrive/MyDrive/AI_MTP_2/\"+mdlpth))\n",
        "\n",
        "vqvae_model.eval()\n",
        "\n",
        "print(\"model weights loaded...\")"
      ],
      "metadata": {
        "colab": {
          "base_uri": "https://localhost:8080/"
        },
        "id": "heUUxH2QAwj0",
        "outputId": "715255f6-4708-41c3-bbb9-b17326c7ce4f"
      },
      "execution_count": null,
      "outputs": [
        {
          "output_type": "stream",
          "name": "stdout",
          "text": [
            "Working with z of shape (1, 64, 36, 36) = 82944 dimensions.\n"
          ]
        },
        {
          "output_type": "stream",
          "name": "stderr",
          "text": [
            "/usr/local/lib/python3.11/dist-packages/torchvision/models/_utils.py:208: UserWarning: The parameter 'pretrained' is deprecated since 0.13 and may be removed in the future, please use 'weights' instead.\n",
            "  warnings.warn(\n",
            "/usr/local/lib/python3.11/dist-packages/torchvision/models/_utils.py:223: UserWarning: Arguments other than a weight enum or `None` for 'weights' are deprecated since 0.13 and may be removed in the future. The current behavior is equivalent to passing `weights=VGG16_Weights.IMAGENET1K_V1`. You can also use `weights=VGG16_Weights.DEFAULT` to get the most up-to-date weights.\n",
            "  warnings.warn(msg)\n",
            "Downloading: \"https://download.pytorch.org/models/vgg16-397923af.pth\" to /root/.cache/torch/hub/checkpoints/vgg16-397923af.pth\n",
            "100%|██████████| 528M/528M [00:03<00:00, 175MB/s]\n"
          ]
        },
        {
          "output_type": "stream",
          "name": "stdout",
          "text": [
            "Downloading vgg_lpips model from https://heibox.uni-heidelberg.de/f/607503859c864bc1b30b/?dl=1 to taming/modules/autoencoder/lpips/vgg.pth\n"
          ]
        },
        {
          "output_type": "stream",
          "name": "stderr",
          "text": [
            "8.19kB [00:00, 592kB/s]                    \n"
          ]
        },
        {
          "output_type": "stream",
          "name": "stdout",
          "text": [
            "loaded pretrained LPIPS loss from taming/modules/autoencoder/lpips/vgg.pth\n",
            "VQLPIPSWithDiscriminator running with hinge loss.\n",
            "model weights loaded...\n"
          ]
        }
      ]
    },
    {
      "cell_type": "code",
      "source": [],
      "metadata": {
        "id": "XirIWlmjCKyw"
      },
      "execution_count": null,
      "outputs": []
    },
    {
      "cell_type": "code",
      "source": [],
      "metadata": {
        "id": "9n6GOQkbCLAC"
      },
      "execution_count": null,
      "outputs": []
    },
    {
      "cell_type": "markdown",
      "source": [
        "# SST Data Loading"
      ],
      "metadata": {
        "id": "1sn1ayVuL-He"
      }
    },
    {
      "cell_type": "code",
      "execution_count": null,
      "metadata": {
        "id": "r0Wu5n6-aW_f"
      },
      "outputs": [],
      "source": [
        "import numpy as np\n",
        "from sklearn.utils import shuffle\n",
        "import torch\n",
        "import xarray as xr\n",
        "from scipy.signal import detrend\n",
        "import netCDF4 as nc\n",
        "import numpy as np\n",
        "\n",
        "\n",
        "\n",
        "def get_datalists(path, N=25):\n",
        "\n",
        "    train_X, train_Y = [], []\n",
        "    test_X, test_Y = [], []\n",
        "    val_X, val_Y = [], []\n",
        "\n",
        "    trY_SST_ds = xr.open_dataset(path, engine=\"netcdf4\")\n",
        "    trY_SST_ds = trY_SST_ds.fillna(0)\n",
        "\n",
        "    print(trY_SST_ds)\n",
        "\n",
        "    for i in range(N):\n",
        "        trY_SST = trY_SST_ds['sst'].values[i:i+1]\n",
        "\n",
        "        print(f\"{i+1} Data Loaded...\")\n",
        "\n",
        "        # Anomaly data\n",
        "        trY_SST_detrended = detrend(trY_SST, axis=1) # Detrending trY_SST\n",
        "        trY_SST = torch.tensor(trY_SST_detrended.reshape(trY_SST.shape[0],1980,48,144))  #.reshape(16800,48,144)  # Anomaly Data\n",
        "\n",
        "        ### OR ###\n",
        "\n",
        "        # Normal Raw data\n",
        "        # trY_SST = torch.tensor(trY_SST.reshape(trY_SST.shape[0],1980,48,144))\n",
        "\n",
        "        trY_SST_train = trY_SST[:,:1680] #1871-1989\n",
        "        trY_SST_test = trY_SST[0,1680:] #1990-2010\n",
        "\n",
        "        X_train = trY_SST_train[:,:-1,:,:].squeeze(0).unsqueeze(1)\n",
        "        train_X.append(X_train)\n",
        "\n",
        "        X_test = trY_SST_test[:-1,:,:]\n",
        "\n",
        "        X_valid = X_test[:171].unsqueeze(1)\n",
        "        val_X.append(X_valid)\n",
        "\n",
        "        X_test = X_test[171:, :, :].unsqueeze(1)\n",
        "        test_X.append(X_test)\n",
        "\n",
        "    return train_X, test_X, val_X\n"
      ]
    },
    {
      "cell_type": "code",
      "source": [
        "\n",
        "# path_1 = \"/content/gdrive/MyDrive/AI_MTP_2/EC_Earth3_CC_historical_1850_2014.nc\"\n",
        "# train_X, test_X, val_X = get_datalists(path_1, N=2)\n",
        "\n",
        "### OR ###\n",
        "\n",
        "path_1 = \"/content/gdrive/MyDrive/AI_MTP_2/GISS-E2-1-H_historical_1850_2014.nc\"\n",
        "train_X, test_X, val_X = get_datalists(path_1, N=2)\n"
      ],
      "metadata": {
        "id": "BZ6kVd6auVFG",
        "colab": {
          "base_uri": "https://localhost:8080/"
        },
        "outputId": "22f3a93b-618c-40a0-8206-9f81e264e4cc"
      },
      "execution_count": null,
      "outputs": [
        {
          "output_type": "stream",
          "name": "stdout",
          "text": [
            "<xarray.Dataset> Size: 3GB\n",
            "Dimensions:   (ensemble: 25, years: 165, mon: 12, lat: 48, lon: 144)\n",
            "Coordinates:\n",
            "  * ensemble  (ensemble) <U41 4kB 'tos_Omon_GISS-E2-1-H_historical_r10i1p1f1'...\n",
            "  * years     (years) int32 660B 1850 1851 1852 1853 ... 2011 2012 2013 2014\n",
            "  * mon       (mon) int32 48B 0 1 2 3 4 5 6 7 8 9 10 11\n",
            "  * lat       (lat) float64 384B -88.12 -84.38 -80.62 ... 80.62 84.38 88.12\n",
            "  * lon       (lon) float64 1kB 0.0 2.5 5.0 7.5 10.0 ... 350.0 352.5 355.0 357.5\n",
            "Data variables:\n",
            "    sst       (ensemble, years, mon, lat, lon) float64 3GB 0.0 0.0 ... -1.722\n",
            "1 Data Loaded...\n",
            "2 Data Loaded...\n"
          ]
        }
      ]
    },
    {
      "cell_type": "code",
      "source": [
        "len(train_X), len(test_X), len(val_X)"
      ],
      "metadata": {
        "id": "qLxM7te7aVCo",
        "colab": {
          "base_uri": "https://localhost:8080/"
        },
        "outputId": "467498ee-6d8c-4e9a-9670-c74eba9777a7"
      },
      "execution_count": null,
      "outputs": [
        {
          "output_type": "execute_result",
          "data": {
            "text/plain": [
              "(2, 2, 2)"
            ]
          },
          "metadata": {},
          "execution_count": 12
        }
      ]
    },
    {
      "cell_type": "code",
      "source": [
        "train_X[0].shape, test_X[0].shape, val_X[0].shape    # N x C x H x W"
      ],
      "metadata": {
        "id": "sQWiewC1cU3R",
        "colab": {
          "base_uri": "https://localhost:8080/"
        },
        "outputId": "266bbc49-4a98-4421-99e6-557eac0d3260"
      },
      "execution_count": null,
      "outputs": [
        {
          "output_type": "execute_result",
          "data": {
            "text/plain": [
              "(torch.Size([1679, 1, 48, 144]),\n",
              " torch.Size([128, 1, 48, 144]),\n",
              " torch.Size([171, 1, 48, 144]))"
            ]
          },
          "metadata": {},
          "execution_count": 13
        }
      ]
    },
    {
      "cell_type": "code",
      "source": [
        "from torch.utils.data import Dataset, DataLoader\n",
        "\n",
        "\n",
        "class create_dataset_sst(Dataset):\n",
        "\n",
        "  def __init__(self, data):\n",
        "    self.data = data                 # N x C x H x W\n",
        "\n",
        "  def __len__(self):\n",
        "    return self.data.shape[0]\n",
        "\n",
        "  def __getitem__(self, idx):\n",
        "    sample = self.data[idx]\n",
        "    return sample\n"
      ],
      "metadata": {
        "id": "XPRzWUTrOK90"
      },
      "execution_count": null,
      "outputs": []
    },
    {
      "cell_type": "code",
      "source": [
        "train_loaders = []\n",
        "test_loaders = []\n",
        "val_loaders = []\n",
        "\n",
        "batch_size = 1\n",
        "\n",
        "for i in range(len(train_X)):\n",
        "\n",
        "  train_dataset = create_dataset_sst(train_X[i])\n",
        "  train_loaders.append(DataLoader(train_dataset, batch_size=batch_size, shuffle=False))\n",
        "\n",
        "  val_dataset = create_dataset_sst(val_X[i])\n",
        "  val_loaders.append(DataLoader(val_dataset, batch_size=batch_size, shuffle=False))\n",
        "\n",
        "  test_dataset = create_dataset_sst(test_X[i])\n",
        "  test_loaders.append(DataLoader(test_dataset, batch_size=batch_size, shuffle=False))\n",
        "\n",
        "\n",
        "len(train_loaders), len(val_loaders), len(test_loaders)"
      ],
      "metadata": {
        "id": "TsrIZGw0JRi5",
        "colab": {
          "base_uri": "https://localhost:8080/"
        },
        "outputId": "ec99871e-5fe7-4e8b-8950-cff106397a7c"
      },
      "execution_count": null,
      "outputs": [
        {
          "output_type": "execute_result",
          "data": {
            "text/plain": [
              "(2, 2, 2)"
            ]
          },
          "metadata": {},
          "execution_count": 15
        }
      ]
    },
    {
      "cell_type": "code",
      "source": [],
      "metadata": {
        "id": "lOaoQqY9L9LN"
      },
      "execution_count": null,
      "outputs": []
    },
    {
      "cell_type": "code",
      "source": [],
      "metadata": {
        "id": "dTtCfrbrL9NX"
      },
      "execution_count": null,
      "outputs": []
    },
    {
      "cell_type": "markdown",
      "source": [
        "# Sequential Data preparation"
      ],
      "metadata": {
        "id": "EDviMc-ECLZT"
      }
    },
    {
      "cell_type": "code",
      "source": [
        "from tqdm import tqdm\n",
        "\n",
        "\n",
        "def get_latent_sequences(model, all_ensemble_loaders):\n",
        "\n",
        "    latent_sequences = []\n",
        "\n",
        "    for ensemble_loader in all_ensemble_loaders:\n",
        "        ensemble_latents = []\n",
        "        for sst_map in tqdm(ensemble_loader):\n",
        "            sst_map = sst_map.to(device).float()\n",
        "            with torch.no_grad():\n",
        "                z, _, _ = model.encode(sst_map)\n",
        "            z = z.squeeze(0).cpu()\n",
        "            ensemble_latents.append(z)\n",
        "        latent_sequences.append(torch.stack(ensemble_latents))  # (N, (T, C, H, W))\n",
        "\n",
        "    return latent_sequences"
      ],
      "metadata": {
        "id": "D5lha6F2CLv9"
      },
      "execution_count": null,
      "outputs": []
    },
    {
      "cell_type": "code",
      "source": [
        "\n",
        "train_latent_sequences = get_latent_sequences(vqvae_model, train_loaders)\n",
        "print(len(train_latent_sequences), train_latent_sequences[0].shape)\n",
        "\n",
        "val_latent_sequences = get_latent_sequences(vqvae_model, val_loaders)\n",
        "print(len(val_latent_sequences), val_latent_sequences[0].shape)\n",
        "\n",
        "test_latent_sequences = get_latent_sequences(vqvae_model, test_loaders)\n",
        "print(len(test_latent_sequences), test_latent_sequences[0].shape)\n"
      ],
      "metadata": {
        "colab": {
          "base_uri": "https://localhost:8080/"
        },
        "id": "pZljMN53PuQI",
        "outputId": "9e992079-d278-4341-d4d6-018ace69d4a7"
      },
      "execution_count": null,
      "outputs": [
        {
          "output_type": "stream",
          "name": "stderr",
          "text": [
            "100%|██████████| 1679/1679 [00:07<00:00, 216.31it/s]\n",
            "100%|██████████| 1679/1679 [00:07<00:00, 214.05it/s]\n"
          ]
        },
        {
          "output_type": "stream",
          "name": "stdout",
          "text": [
            "2 torch.Size([1679, 64, 12, 36])\n"
          ]
        },
        {
          "output_type": "stream",
          "name": "stderr",
          "text": [
            "100%|██████████| 171/171 [00:00<00:00, 231.79it/s]\n",
            "100%|██████████| 171/171 [00:00<00:00, 241.81it/s]\n"
          ]
        },
        {
          "output_type": "stream",
          "name": "stdout",
          "text": [
            "2 torch.Size([171, 64, 12, 36])\n"
          ]
        },
        {
          "output_type": "stream",
          "name": "stderr",
          "text": [
            "100%|██████████| 128/128 [00:00<00:00, 239.76it/s]\n",
            "100%|██████████| 128/128 [00:00<00:00, 161.33it/s]"
          ]
        },
        {
          "output_type": "stream",
          "name": "stdout",
          "text": [
            "2 torch.Size([128, 64, 12, 36])\n"
          ]
        },
        {
          "output_type": "stream",
          "name": "stderr",
          "text": [
            "\n"
          ]
        }
      ]
    },
    {
      "cell_type": "code",
      "source": [
        "print([latent_seq.shape for latent_seq in test_latent_sequences])\n"
      ],
      "metadata": {
        "colab": {
          "base_uri": "https://localhost:8080/"
        },
        "id": "v_RYX6eWPuTD",
        "outputId": "03e24071-4557-4279-d9f6-f4e1e72b4c60"
      },
      "execution_count": null,
      "outputs": [
        {
          "output_type": "stream",
          "name": "stdout",
          "text": [
            "[torch.Size([128, 64, 12, 36]), torch.Size([128, 64, 12, 36])]\n"
          ]
        }
      ]
    },
    {
      "cell_type": "code",
      "source": [
        "\n",
        "class LatentSeqDataset(torch.utils.data.Dataset):\n",
        "\n",
        "    def __init__(self, seq, input_length=10):\n",
        "        self.samples = []\n",
        "        for i in range(len(seq) - input_length):\n",
        "            input_seq = seq[i:i+input_length]   # (input_length, C, H, W)\n",
        "            target = seq[i+input_length]        # (C, H, W)\n",
        "            self.samples.append((input_seq, target))\n",
        "\n",
        "    def __len__(self):\n",
        "        return len(self.samples)\n",
        "\n",
        "    def __getitem__(self, idx):\n",
        "        return self.samples[idx]\n"
      ],
      "metadata": {
        "id": "Efej1hnGPuV0"
      },
      "execution_count": null,
      "outputs": []
    },
    {
      "cell_type": "code",
      "source": [
        "seq_train_loaders = []\n",
        "seq_test_loaders = []\n",
        "seq_val_loaders = []\n",
        "\n",
        "batch_size = 16\n",
        "input_length = 10\n",
        "\n",
        "for seq in train_latent_sequences:\n",
        "    train_dataset = LatentSeqDataset(seq, input_length=input_length)\n",
        "    seq_train_loaders.append(DataLoader(train_dataset, batch_size=batch_size, shuffle=False))\n",
        "\n",
        "for seq in val_latent_sequences:\n",
        "    val_dataset = LatentSeqDataset(seq, input_length=input_length)\n",
        "    seq_val_loaders.append(DataLoader(val_dataset, batch_size=batch_size, shuffle=False))\n",
        "\n",
        "for seq in test_latent_sequences:\n",
        "    test_dataset = LatentSeqDataset(seq, input_length=input_length)\n",
        "    seq_test_loaders.append(DataLoader(test_dataset, batch_size=batch_size, shuffle=False))\n",
        "\n",
        "\n",
        "len(seq_train_loaders), len(seq_val_loaders), len(seq_test_loaders)"
      ],
      "metadata": {
        "colab": {
          "base_uri": "https://localhost:8080/"
        },
        "outputId": "d4f2653b-4771-4c06-d9a0-ce2ffe5d81b0",
        "id": "7aHTJfu1tQQi"
      },
      "execution_count": null,
      "outputs": [
        {
          "output_type": "execute_result",
          "data": {
            "text/plain": [
              "(2, 2, 2)"
            ]
          },
          "metadata": {},
          "execution_count": 32
        }
      ]
    },
    {
      "cell_type": "code",
      "source": [],
      "metadata": {
        "id": "U8JrL7y9ZwJn"
      },
      "execution_count": null,
      "outputs": []
    },
    {
      "cell_type": "code",
      "source": [],
      "metadata": {
        "id": "CLpIfh3jZwLf"
      },
      "execution_count": null,
      "outputs": []
    },
    {
      "cell_type": "markdown",
      "source": [
        "# ConvLSTM model declaration + training"
      ],
      "metadata": {
        "id": "G2InoSbcZwXw"
      }
    },
    {
      "cell_type": "code",
      "execution_count": null,
      "metadata": {
        "id": "pW61PohevMYf",
        "colab": {
          "base_uri": "https://localhost:8080/"
        },
        "outputId": "7c20faa7-6726-4b99-cd02-df096d735929"
      },
      "outputs": [
        {
          "output_type": "stream",
          "name": "stdout",
          "text": [
            "Cloning into 'ConvLSTM-Pytorch'...\n",
            "remote: Enumerating objects: 43, done.\u001b[K\n",
            "remote: Counting objects: 100% (43/43), done.\u001b[K\n",
            "remote: Compressing objects: 100% (42/42), done.\u001b[K\n",
            "remote: Total 43 (delta 11), reused 0 (delta 0), pack-reused 0 (from 0)\u001b[K\n",
            "Receiving objects: 100% (43/43), 12.92 KiB | 12.92 MiB/s, done.\n",
            "Resolving deltas: 100% (11/11), done.\n"
          ]
        }
      ],
      "source": [
        "!git clone https://github.com/KL4805/ConvLSTM-Pytorch.git"
      ]
    },
    {
      "cell_type": "code",
      "source": [
        "import sys\n",
        "sys.path.append('/content/ConvLSTM-Pytorch')"
      ],
      "metadata": {
        "id": "GBVQ1kY__uXB"
      },
      "execution_count": null,
      "outputs": []
    },
    {
      "cell_type": "code",
      "source": [
        "from convlstm import ConvLSTM"
      ],
      "metadata": {
        "id": "9nII2m-kAdaD"
      },
      "execution_count": null,
      "outputs": []
    },
    {
      "cell_type": "code",
      "source": [
        "from convlstm import ConvLSTM\n",
        "import torch.nn as nn\n",
        "import torch\n",
        "import torch.optim as optim\n",
        "\n",
        "device = torch.device(\"cuda\" if torch.cuda.is_available() else \"cpu\")\n",
        "\n",
        "\n",
        "class ScaledConvLSTMWrapper(nn.Module):\n",
        "    def __init__(self, input_dim=64, hidden_dim=[128, 64], kernel_size=[(5, 5), (5, 5)], num_layers=2, init_scale=1.0):\n",
        "        super().__init__()\n",
        "\n",
        "        # Learnable scaling parameter\n",
        "        self.scale = nn.Parameter(torch.tensor(init_scale, dtype=torch.float32))\n",
        "\n",
        "        # LayerNorm\n",
        "        self.layernorm = nn.LayerNorm([input_dim, 12, 36])  # (C, H, W) of latent map\n",
        "\n",
        "        self.convlstm = ConvLSTM(\n",
        "            input_dim=input_dim,\n",
        "            hidden_dim=hidden_dim,\n",
        "            kernel_size=kernel_size,\n",
        "            num_layers=num_layers,\n",
        "            batch_first=True,\n",
        "            bias=True,\n",
        "            return_all_layers=False\n",
        "        )\n",
        "\n",
        "    def forward(self, x):                           # x: (B, T, C, H, W)\n",
        "        b, t, c, h, w = x.size()\n",
        "        x = x.view(b * t, c, h, w)                  # Flatten time for layernorm\n",
        "        x = self.layernorm(x)                       # Apply LayerNorm on (B*T, C, H, W)\n",
        "        x = x.view(b, t, c, h, w)                   # Reshape back\n",
        "        out, _ = self.convlstm(x)                   # Apply ConvLSTM\n",
        "        output = out[0][:, -1, :, :, :]             # Get last timestep output\n",
        "        return output * self.scale                  # Apply learnable scale\n",
        "\n",
        "\n",
        "convlstm_model = ScaledConvLSTMWrapper(init_scale=10e4)\n",
        "convlstm_model.to(device)"
      ],
      "metadata": {
        "id": "vwjtofPQPuYz",
        "colab": {
          "base_uri": "https://localhost:8080/"
        },
        "outputId": "b71c9e79-9170-42f5-bbb7-388707d92229"
      },
      "execution_count": null,
      "outputs": [
        {
          "output_type": "execute_result",
          "data": {
            "text/plain": [
              "ScaledConvLSTMWrapper(\n",
              "  (layernorm): LayerNorm((64, 12, 36), eps=1e-05, elementwise_affine=True)\n",
              "  (convlstm): ConvLSTM(\n",
              "    (cell_list): ModuleList(\n",
              "      (0): ConvLSTMCell(\n",
              "        (conv): Conv2d(192, 512, kernel_size=(5, 5), stride=(1, 1), padding=(2, 2))\n",
              "        (conv_c): Conv2d(128, 256, kernel_size=(5, 5), stride=(1, 1), padding=(2, 2))\n",
              "        (conv_cnext): Conv2d(128, 128, kernel_size=(5, 5), stride=(1, 1), padding=(2, 2))\n",
              "      )\n",
              "      (1): ConvLSTMCell(\n",
              "        (conv): Conv2d(192, 256, kernel_size=(5, 5), stride=(1, 1), padding=(2, 2))\n",
              "        (conv_c): Conv2d(64, 128, kernel_size=(5, 5), stride=(1, 1), padding=(2, 2))\n",
              "        (conv_cnext): Conv2d(64, 64, kernel_size=(5, 5), stride=(1, 1), padding=(2, 2))\n",
              "      )\n",
              "    )\n",
              "  )\n",
              ")"
            ]
          },
          "metadata": {},
          "execution_count": 65
        }
      ]
    },
    {
      "cell_type": "code",
      "source": [
        "\n",
        "optimizer = optim.Adam(convlstm_model.parameters(), lr=3e-4)\n",
        "\n",
        "scheduler = optim.lr_scheduler.ReduceLROnPlateau(optimizer, mode='min', factor=0.5, patience=3)\n",
        "\n",
        "def criterion(true, pred):\n",
        "  mse = nn.MSELoss()\n",
        "  return torch.sqrt(mse(true, pred))\n"
      ],
      "metadata": {
        "id": "0NWgueNgZfBk"
      },
      "execution_count": null,
      "outputs": []
    },
    {
      "cell_type": "code",
      "source": [
        "train_losses, val_losses = [], []\n",
        "\n",
        "print(\"\\nTraining ConvLSTM...\\n\")\n",
        "\n",
        "\n",
        "\n",
        "for epoch in range(5):\n",
        "\n",
        "    convlstm_model.train()\n",
        "    sum_loss = 0\n",
        "    n = 0\n",
        "\n",
        "    for loader in tqdm(seq_train_loaders, desc=f\"Train Epoch {epoch+1}\"):\n",
        "        for input_seq, target in loader:\n",
        "            input_seq = input_seq.to(device).float()   # (B, T, C, H, W)\n",
        "            target = target.to(device).float()         # (B, C, H, W)\n",
        "\n",
        "            # print(input_seq.shape, target.shape)\n",
        "\n",
        "            optimizer.zero_grad()\n",
        "            output = convlstm_model(input_seq)\n",
        "            pred = output  # (B, C, H, W)\n",
        "\n",
        "            loss = criterion(pred, target)\n",
        "            loss.backward()\n",
        "            optimizer.step()\n",
        "\n",
        "            sum_loss += loss.item() * input_seq.size(0)\n",
        "            n += input_seq.size(0)\n",
        "\n",
        "    train_loss = sum_loss / n\n",
        "    train_losses.append(train_loss)\n",
        "\n",
        "\n",
        "    convlstm_model.eval()\n",
        "    sum_loss = 0\n",
        "    n = 0\n",
        "\n",
        "    with torch.no_grad():\n",
        "        for loader in tqdm(seq_val_loaders, desc=f\"Val Epoch {epoch+1}\"):\n",
        "            for input_seq, target in loader:\n",
        "                input_seq = input_seq.to(device).float()\n",
        "                target = target.to(device).float()\n",
        "\n",
        "                output = convlstm_model(input_seq)\n",
        "                pred = output  # last time step\n",
        "\n",
        "                loss = criterion(pred, target)\n",
        "                sum_loss += loss.item() * input_seq.size(0)\n",
        "                n += input_seq.size(0)\n",
        "\n",
        "    val_loss = sum_loss / n\n",
        "    val_losses.append(val_loss)\n",
        "    scheduler.step(val_loss)\n",
        "\n",
        "    print(f\"Epoch {epoch+1}: \"\n",
        "          f\"Train Loss: {train_loss}, \"\n",
        "          f\"Val Loss: {val_loss}, \"\n",
        "          f\"LR: {scheduler.get_last_lr()[0]}\\n\")\n",
        "\n",
        "    # Save checkpoint\n",
        "    if (epoch+1) % 2 == 0:\n",
        "        torch.save(convlstm_model.state_dict(), \"convlstm_model.pth\")\n"
      ],
      "metadata": {
        "id": "WOeRi_cDPunI",
        "colab": {
          "base_uri": "https://localhost:8080/"
        },
        "outputId": "dfc5a7c2-2198-46bd-fdbd-848e2e6bdf4a"
      },
      "execution_count": null,
      "outputs": [
        {
          "output_type": "stream",
          "name": "stdout",
          "text": [
            "\n",
            "Training ConvLSTM...\n",
            "\n"
          ]
        },
        {
          "output_type": "stream",
          "name": "stderr",
          "text": [
            "Train Epoch 1: 100%|██████████| 2/2 [01:43<00:00, 51.67s/it]\n",
            "Val Epoch 1: 100%|██████████| 2/2 [00:01<00:00,  1.09it/s]\n"
          ]
        },
        {
          "output_type": "stream",
          "name": "stdout",
          "text": [
            "Epoch 1: Train Loss: 42.16954325429689, Val Loss: 8.000329364160573, LR: 0.0003\n",
            "\n"
          ]
        },
        {
          "output_type": "stream",
          "name": "stderr",
          "text": [
            "Train Epoch 2: 100%|██████████| 2/2 [01:42<00:00, 51.36s/it]\n",
            "Val Epoch 2: 100%|██████████| 2/2 [00:01<00:00,  1.11it/s]\n"
          ]
        },
        {
          "output_type": "stream",
          "name": "stdout",
          "text": [
            "Epoch 2: Train Loss: 5.46302309737654, Val Loss: 4.039767613322098, LR: 0.0003\n",
            "\n"
          ]
        },
        {
          "output_type": "stream",
          "name": "stderr",
          "text": [
            "Train Epoch 3: 100%|██████████| 2/2 [01:42<00:00, 51.36s/it]\n",
            "Val Epoch 3: 100%|██████████| 2/2 [00:01<00:00,  1.10it/s]\n"
          ]
        },
        {
          "output_type": "stream",
          "name": "stdout",
          "text": [
            "Epoch 3: Train Loss: 3.2954953696072065, Val Loss: 2.6771201354376277, LR: 0.0003\n",
            "\n"
          ]
        },
        {
          "output_type": "stream",
          "name": "stderr",
          "text": [
            "Train Epoch 4: 100%|██████████| 2/2 [01:42<00:00, 51.33s/it]\n",
            "Val Epoch 4: 100%|██████████| 2/2 [00:01<00:00,  1.10it/s]\n"
          ]
        },
        {
          "output_type": "stream",
          "name": "stdout",
          "text": [
            "Epoch 4: Train Loss: 2.3448951482915676, Val Loss: 2.073730522801417, LR: 0.0003\n",
            "\n"
          ]
        },
        {
          "output_type": "stream",
          "name": "stderr",
          "text": [
            "Train Epoch 5: 100%|██████████| 2/2 [01:42<00:00, 51.23s/it]\n",
            "Val Epoch 5: 100%|██████████| 2/2 [00:01<00:00,  1.11it/s]"
          ]
        },
        {
          "output_type": "stream",
          "name": "stdout",
          "text": [
            "Epoch 5: Train Loss: 1.793223245762436, Val Loss: 1.7505290926613422, LR: 0.0003\n",
            "\n"
          ]
        },
        {
          "output_type": "stream",
          "name": "stderr",
          "text": [
            "\n"
          ]
        }
      ]
    },
    {
      "cell_type": "code",
      "source": [
        "\n",
        "plt.figure(figsize=(8,5))\n",
        "plt.plot(train_losses, label=\"Train Loss\")\n",
        "plt.plot(val_losses, label=\"Val Loss\")\n",
        "plt.xlabel(\"Epoch\")\n",
        "plt.ylabel(\"Loss\")\n",
        "plt.legend()\n",
        "plt.title(\"Training-Validation Curve\")\n",
        "plt.show()\n"
      ],
      "metadata": {
        "id": "f0zIZvGexGbw",
        "colab": {
          "base_uri": "https://localhost:8080/",
          "height": 487
        },
        "outputId": "d28ba35b-af84-4941-bc86-d93aa7b4696e"
      },
      "execution_count": null,
      "outputs": [
        {
          "output_type": "display_data",
          "data": {
            "text/plain": [
              "<Figure size 800x500 with 1 Axes>"
            ],
            "image/png": "[encoded data removed]"
          },
          "metadata": {}
        }
      ]
    },
    {
      "cell_type": "code",
      "source": [],
      "metadata": {
        "id": "XCwKzWjJZzef"
      },
      "execution_count": null,
      "outputs": []
    },
    {
      "cell_type": "code",
      "source": [],
      "metadata": {
        "id": "DgcAfGO7ZzhB"
      },
      "execution_count": null,
      "outputs": []
    },
    {
      "cell_type": "code",
      "source": [],
      "metadata": {
        "id": "BUYhrAeQZzj3"
      },
      "execution_count": null,
      "outputs": []
    },
    {
      "cell_type": "code",
      "source": [],
      "metadata": {
        "id": "JN7yZMWTZzmb"
      },
      "execution_count": null,
      "outputs": []
    },
    {
      "cell_type": "code",
      "source": [],
      "metadata": {
        "id": "l-lleVMtZzpk"
      },
      "execution_count": null,
      "outputs": []
    }
  ]
}